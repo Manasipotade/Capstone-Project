{
  "nbformat": 4,
  "nbformat_minor": 0,
  "metadata": {
    "colab": {
      "name": "MFC.ipynb",
      "version": "0.3.2",
      "provenance": [],
      "collapsed_sections": [],
      "include_colab_link": true
    },
    "kernelspec": {
      "name": "python3",
      "display_name": "Python 3"
    }
  },
  "cells": [
    {
      "cell_type": "markdown",
      "metadata": {
        "id": "view-in-github",
        "colab_type": "text"
      },
      "source": [
        "<a href=\"https://colab.research.google.com/github/Manasipotade/Capstone-Project/blob/master/MFC.ipynb\" target=\"_parent\"><img src=\"https://colab.research.google.com/assets/colab-badge.svg\" alt=\"Open In Colab\"/></a>"
      ]
    },
    {
      "cell_type": "code",
      "metadata": {
        "id": "VSTypPS9OPSQ",
        "colab_type": "code",
        "outputId": "781d0e2d-4bfa-4d6a-c781-d66ca46a4d12",
        "colab": {
          "base_uri": "https://localhost:8080/",
          "height": 50
        }
      },
      "source": [
        "from google.colab import drive\n",
        "drive.mount('/content/drive')"
      ],
      "execution_count": 2,
      "outputs": [
        {
          "output_type": "stream",
          "text": [
            "Mounted at /content/drive\n",
            "Drive already mounted at /content/drive; to attempt to forcibly remount, call drive.mount(\"/content/drive\", force_remount=True).\n"
          ],
          "name": "stdout"
        }
      ]
    },
    {
      "cell_type": "code",
      "metadata": {
        "id": "tjWxQOzjOUVR",
        "colab_type": "code",
        "colab": {}
      },
      "source": [
        "import pandas as pd\n",
        "import numpy as np\n",
        "import pandas_profiling\n",
        "import warnings\n",
        "warnings.filterwarnings(\"ignore\")\n",
        "import seaborn as sns\n",
        "import matplotlib.pyplot as plt\n",
        "%matplotlib inline"
      ],
      "execution_count": 0,
      "outputs": []
    },
    {
      "cell_type": "code",
      "metadata": {
        "id": "BpwYEBDrQlf3",
        "colab_type": "code",
        "colab": {}
      },
      "source": [
        "invoice = pd.read_csv('drive/My Drive/capstone/invoice.csv')\n",
        "customer = pd.read_csv('drive/My Drive/capstone/customer.csv')\n",
        "plant = pd.read_csv('drive/My Drive/capstone/plant.csv')\n",
        "vehicles = pd.read_csv('drive/My Drive/capstone/vehicles.csv')\n",
        "jtd= pd.read_csv('drive/My Drive/capstone/jtd.csv') "
      ],
      "execution_count": 0,
      "outputs": []
    },
    {
      "cell_type": "code",
      "metadata": {
        "id": "Anj0DNOElbDH",
        "colab_type": "code",
        "outputId": "ba573aff-7a62-4f39-9a51-9d223a52cf52",
        "colab": {
          "base_uri": "https://localhost:8080/",
          "height": 622
        }
      },
      "source": [
        "print('invoice:\\n   ',invoice.columns)\n",
        "print('customer:\\n  ',customer.columns)\n",
        "print('plant:\\n  ',plant.columns)\n",
        "print('Vehicle:\\n   ',vehicles.columns)\n",
        "print('JTD:\\n   ',jtd.columns)"
      ],
      "execution_count": 5,
      "outputs": [
        {
          "output_type": "stream",
          "text": [
            "invoice:\n",
            "    Index(['Unnamed: 0', 'Amt Rcvd From Custom', 'Amt Rcvd From Ins Co',\n",
            "       'Area / Locality', 'CGST(14%)', 'CGST(2.5%)', 'CGST(6%)', 'CGST(9%)',\n",
            "       'CITY', 'Cash /Cashless Type', 'Claim No.', 'Cust Type', 'Customer No.',\n",
            "       'District', 'Expiry Date', 'Gate Pass Date', 'Gate Pass Time',\n",
            "       'IGST(12%)', 'IGST(18%)', 'IGST(28%)', 'IGST(5%)', 'Insurance Company',\n",
            "       'Invoice Date', 'Invoice No', 'Invoice Time', 'Job Card No',\n",
            "       'JobCard Date', 'JobCard Time', 'KMs Reading', 'Labour Total', 'Make',\n",
            "       'Misc Total', 'Model', 'ODN No.', 'OSL Total', 'Order Type',\n",
            "       'Outstanding Amt', 'Parts Total', 'Pin code', 'Plant', 'Plant Name1',\n",
            "       'Policy no.', 'Print Status', 'Recovrbl Exp', 'Regn No',\n",
            "       'SGST/UGST(14%)', 'SGST/UGST(2.5%)', 'SGST/UGST(6%)', 'SGST/UGST(9%)',\n",
            "       'Service Advisor Name', 'TDS amount', 'Technician Name',\n",
            "       'Total Amt Wtd Tax.', 'Total CGST', 'Total GST', 'Total IGST',\n",
            "       'Total SGST/UGST', 'Total Value', 'User ID'],\n",
            "      dtype='object')\n",
            "customer:\n",
            "   Index(['Unnamed: 0', 'Business Partner', 'Customer No.', 'Partner Type',\n",
            "       'Data Origin', 'Title', 'Marital Status', 'Occupation', 'Date of Birth',\n",
            "       'Death date'],\n",
            "      dtype='object')\n",
            "plant:\n",
            "   Index(['Unnamed: 0', 'Plant', 'Name 1', 'Valuation Area',\n",
            "       'Customer no. - plant', 'Vendor number plant', 'Factory calendar',\n",
            "       'Name 2', 'House number and street', 'PO Box', 'Postal Code', 'City',\n",
            "       'Sales organization', 'State'],\n",
            "      dtype='object')\n",
            "Vehicle:\n",
            "    Index(['Unnamed: 0', 'Vehicle Model', 'Product GUID', 'License Plate Number',\n",
            "       'Fuel Type'],\n",
            "      dtype='object')\n",
            "JTD:\n",
            "    Index(['Unnamed: 0', 'DBM Order', 'Order Item', 'Material',\n",
            "       'Labor Value Number', 'Description', 'Item Category', 'Order Quantity',\n",
            "       'Target quantity UoM', 'Net value'],\n",
            "      dtype='object')\n"
          ],
          "name": "stdout"
        }
      ]
    },
    {
      "cell_type": "markdown",
      "metadata": {
        "id": "ie5Rn56_mEi1",
        "colab_type": "text"
      },
      "source": [
        "## Missing value"
      ]
    },
    {
      "cell_type": "code",
      "metadata": {
        "id": "VC0ynqDKVab4",
        "colab_type": "code",
        "colab": {}
      },
      "source": [
        "def get_missingvalues(df):\n",
        "#   dff =  df.isnull().sum() * 100 / len(df)\n",
        "#   return dff.sort_values(ascending = False)\n",
        "  count = df.isnull().sum().sort_values(ascending = False)\n",
        "  percent = ((df.isnull().sum()/df.isnull().count())*100).sort_values(ascending=False)\n",
        "  # df[column].isnull().sum()\n",
        "  missing_values = pd.concat([count, percent], axis=1, keys=['Count', 'Percent'])\n",
        "  return missing_values"
      ],
      "execution_count": 0,
      "outputs": []
    },
    {
      "cell_type": "code",
      "metadata": {
        "id": "2s_paall6cS5",
        "colab_type": "code",
        "colab": {
          "base_uri": "https://localhost:8080/",
          "height": 343
        },
        "outputId": "e9a2bf61-d776-457b-f4ec-fecf6b964bcc"
      },
      "source": [
        "get_missingvalues(customer)"
      ],
      "execution_count": 7,
      "outputs": [
        {
          "output_type": "execute_result",
          "data": {
            "text/html": [
              "<div>\n",
              "<style scoped>\n",
              "    .dataframe tbody tr th:only-of-type {\n",
              "        vertical-align: middle;\n",
              "    }\n",
              "\n",
              "    .dataframe tbody tr th {\n",
              "        vertical-align: top;\n",
              "    }\n",
              "\n",
              "    .dataframe thead th {\n",
              "        text-align: right;\n",
              "    }\n",
              "</style>\n",
              "<table border=\"1\" class=\"dataframe\">\n",
              "  <thead>\n",
              "    <tr style=\"text-align: right;\">\n",
              "      <th></th>\n",
              "      <th>Count</th>\n",
              "      <th>Percent</th>\n",
              "    </tr>\n",
              "  </thead>\n",
              "  <tbody>\n",
              "    <tr>\n",
              "      <th>Death date</th>\n",
              "      <td>554675</td>\n",
              "      <td>99.880613</td>\n",
              "    </tr>\n",
              "    <tr>\n",
              "      <th>Date of Birth</th>\n",
              "      <td>541894</td>\n",
              "      <td>97.579132</td>\n",
              "    </tr>\n",
              "    <tr>\n",
              "      <th>Occupation</th>\n",
              "      <td>540780</td>\n",
              "      <td>97.378533</td>\n",
              "    </tr>\n",
              "    <tr>\n",
              "      <th>Marital Status</th>\n",
              "      <td>539301</td>\n",
              "      <td>97.112209</td>\n",
              "    </tr>\n",
              "    <tr>\n",
              "      <th>Title</th>\n",
              "      <td>46307</td>\n",
              "      <td>8.338525</td>\n",
              "    </tr>\n",
              "    <tr>\n",
              "      <th>Data Origin</th>\n",
              "      <td>136</td>\n",
              "      <td>0.024490</td>\n",
              "    </tr>\n",
              "    <tr>\n",
              "      <th>Partner Type</th>\n",
              "      <td>78</td>\n",
              "      <td>0.014046</td>\n",
              "    </tr>\n",
              "    <tr>\n",
              "      <th>Customer No.</th>\n",
              "      <td>0</td>\n",
              "      <td>0.000000</td>\n",
              "    </tr>\n",
              "    <tr>\n",
              "      <th>Business Partner</th>\n",
              "      <td>0</td>\n",
              "      <td>0.000000</td>\n",
              "    </tr>\n",
              "    <tr>\n",
              "      <th>Unnamed: 0</th>\n",
              "      <td>0</td>\n",
              "      <td>0.000000</td>\n",
              "    </tr>\n",
              "  </tbody>\n",
              "</table>\n",
              "</div>"
            ],
            "text/plain": [
              "                   Count    Percent\n",
              "Death date        554675  99.880613\n",
              "Date of Birth     541894  97.579132\n",
              "Occupation        540780  97.378533\n",
              "Marital Status    539301  97.112209\n",
              "Title              46307   8.338525\n",
              "Data Origin          136   0.024490\n",
              "Partner Type          78   0.014046\n",
              "Customer No.           0   0.000000\n",
              "Business Partner       0   0.000000\n",
              "Unnamed: 0             0   0.000000"
            ]
          },
          "metadata": {
            "tags": []
          },
          "execution_count": 7
        }
      ]
    },
    {
      "cell_type": "code",
      "metadata": {
        "id": "3liwpqnpXCPC",
        "colab_type": "code",
        "outputId": "200c73e0-e28b-4b8e-ecdb-d7faf3906d0d",
        "colab": {
          "base_uri": "https://localhost:8080/",
          "height": 1000
        }
      },
      "source": [
        "get_missingvalues(invoice)"
      ],
      "execution_count": 8,
      "outputs": [
        {
          "output_type": "execute_result",
          "data": {
            "text/html": [
              "<div>\n",
              "<style scoped>\n",
              "    .dataframe tbody tr th:only-of-type {\n",
              "        vertical-align: middle;\n",
              "    }\n",
              "\n",
              "    .dataframe tbody tr th {\n",
              "        vertical-align: top;\n",
              "    }\n",
              "\n",
              "    .dataframe thead th {\n",
              "        text-align: right;\n",
              "    }\n",
              "</style>\n",
              "<table border=\"1\" class=\"dataframe\">\n",
              "  <thead>\n",
              "    <tr style=\"text-align: right;\">\n",
              "      <th></th>\n",
              "      <th>Count</th>\n",
              "      <th>Percent</th>\n",
              "    </tr>\n",
              "  </thead>\n",
              "  <tbody>\n",
              "    <tr>\n",
              "      <th>Service Advisor Name</th>\n",
              "      <td>984741</td>\n",
              "      <td>100.000000</td>\n",
              "    </tr>\n",
              "    <tr>\n",
              "      <th>Claim No.</th>\n",
              "      <td>979937</td>\n",
              "      <td>99.512156</td>\n",
              "    </tr>\n",
              "    <tr>\n",
              "      <th>Cash /Cashless Type</th>\n",
              "      <td>957321</td>\n",
              "      <td>97.215511</td>\n",
              "    </tr>\n",
              "    <tr>\n",
              "      <th>Gate Pass Date</th>\n",
              "      <td>938511</td>\n",
              "      <td>95.305365</td>\n",
              "    </tr>\n",
              "    <tr>\n",
              "      <th>Policy no.</th>\n",
              "      <td>916631</td>\n",
              "      <td>93.083461</td>\n",
              "    </tr>\n",
              "    <tr>\n",
              "      <th>Expiry Date</th>\n",
              "      <td>887302</td>\n",
              "      <td>90.105114</td>\n",
              "    </tr>\n",
              "    <tr>\n",
              "      <th>Insurance Company</th>\n",
              "      <td>886784</td>\n",
              "      <td>90.052511</td>\n",
              "    </tr>\n",
              "    <tr>\n",
              "      <th>Technician Name</th>\n",
              "      <td>729261</td>\n",
              "      <td>74.056122</td>\n",
              "    </tr>\n",
              "    <tr>\n",
              "      <th>IGST(12%)</th>\n",
              "      <td>689713</td>\n",
              "      <td>70.040041</td>\n",
              "    </tr>\n",
              "    <tr>\n",
              "      <th>Total Value</th>\n",
              "      <td>689713</td>\n",
              "      <td>70.040041</td>\n",
              "    </tr>\n",
              "    <tr>\n",
              "      <th>CGST(14%)</th>\n",
              "      <td>689713</td>\n",
              "      <td>70.040041</td>\n",
              "    </tr>\n",
              "    <tr>\n",
              "      <th>IGST(18%)</th>\n",
              "      <td>689713</td>\n",
              "      <td>70.040041</td>\n",
              "    </tr>\n",
              "    <tr>\n",
              "      <th>ODN No.</th>\n",
              "      <td>689713</td>\n",
              "      <td>70.040041</td>\n",
              "    </tr>\n",
              "    <tr>\n",
              "      <th>Outstanding Amt</th>\n",
              "      <td>689713</td>\n",
              "      <td>70.040041</td>\n",
              "    </tr>\n",
              "    <tr>\n",
              "      <th>CGST(9%)</th>\n",
              "      <td>689713</td>\n",
              "      <td>70.040041</td>\n",
              "    </tr>\n",
              "    <tr>\n",
              "      <th>CGST(6%)</th>\n",
              "      <td>689713</td>\n",
              "      <td>70.040041</td>\n",
              "    </tr>\n",
              "    <tr>\n",
              "      <th>IGST(28%)</th>\n",
              "      <td>689713</td>\n",
              "      <td>70.040041</td>\n",
              "    </tr>\n",
              "    <tr>\n",
              "      <th>CGST(2.5%)</th>\n",
              "      <td>689713</td>\n",
              "      <td>70.040041</td>\n",
              "    </tr>\n",
              "    <tr>\n",
              "      <th>IGST(5%)</th>\n",
              "      <td>689713</td>\n",
              "      <td>70.040041</td>\n",
              "    </tr>\n",
              "    <tr>\n",
              "      <th>TDS amount</th>\n",
              "      <td>689713</td>\n",
              "      <td>70.040041</td>\n",
              "    </tr>\n",
              "    <tr>\n",
              "      <th>Amt Rcvd From Custom</th>\n",
              "      <td>689713</td>\n",
              "      <td>70.040041</td>\n",
              "    </tr>\n",
              "    <tr>\n",
              "      <th>Total SGST/UGST</th>\n",
              "      <td>689713</td>\n",
              "      <td>70.040041</td>\n",
              "    </tr>\n",
              "    <tr>\n",
              "      <th>SGST/UGST(14%)</th>\n",
              "      <td>689713</td>\n",
              "      <td>70.040041</td>\n",
              "    </tr>\n",
              "    <tr>\n",
              "      <th>Total IGST</th>\n",
              "      <td>689713</td>\n",
              "      <td>70.040041</td>\n",
              "    </tr>\n",
              "    <tr>\n",
              "      <th>SGST/UGST(2.5%)</th>\n",
              "      <td>689713</td>\n",
              "      <td>70.040041</td>\n",
              "    </tr>\n",
              "    <tr>\n",
              "      <th>SGST/UGST(6%)</th>\n",
              "      <td>689713</td>\n",
              "      <td>70.040041</td>\n",
              "    </tr>\n",
              "    <tr>\n",
              "      <th>Total GST</th>\n",
              "      <td>689713</td>\n",
              "      <td>70.040041</td>\n",
              "    </tr>\n",
              "    <tr>\n",
              "      <th>SGST/UGST(9%)</th>\n",
              "      <td>689713</td>\n",
              "      <td>70.040041</td>\n",
              "    </tr>\n",
              "    <tr>\n",
              "      <th>Total CGST</th>\n",
              "      <td>689713</td>\n",
              "      <td>70.040041</td>\n",
              "    </tr>\n",
              "    <tr>\n",
              "      <th>Amt Rcvd From Ins Co</th>\n",
              "      <td>689713</td>\n",
              "      <td>70.040041</td>\n",
              "    </tr>\n",
              "    <tr>\n",
              "      <th>Area / Locality</th>\n",
              "      <td>29178</td>\n",
              "      <td>2.963013</td>\n",
              "    </tr>\n",
              "    <tr>\n",
              "      <th>Model</th>\n",
              "      <td>1525</td>\n",
              "      <td>0.154863</td>\n",
              "    </tr>\n",
              "    <tr>\n",
              "      <th>Regn No</th>\n",
              "      <td>16</td>\n",
              "      <td>0.001625</td>\n",
              "    </tr>\n",
              "    <tr>\n",
              "      <th>Cust Type</th>\n",
              "      <td>4</td>\n",
              "      <td>0.000406</td>\n",
              "    </tr>\n",
              "    <tr>\n",
              "      <th>CITY</th>\n",
              "      <td>4</td>\n",
              "      <td>0.000406</td>\n",
              "    </tr>\n",
              "    <tr>\n",
              "      <th>District</th>\n",
              "      <td>0</td>\n",
              "      <td>0.000000</td>\n",
              "    </tr>\n",
              "    <tr>\n",
              "      <th>Customer No.</th>\n",
              "      <td>0</td>\n",
              "      <td>0.000000</td>\n",
              "    </tr>\n",
              "    <tr>\n",
              "      <th>Gate Pass Time</th>\n",
              "      <td>0</td>\n",
              "      <td>0.000000</td>\n",
              "    </tr>\n",
              "    <tr>\n",
              "      <th>User ID</th>\n",
              "      <td>0</td>\n",
              "      <td>0.000000</td>\n",
              "    </tr>\n",
              "    <tr>\n",
              "      <th>Labour Total</th>\n",
              "      <td>0</td>\n",
              "      <td>0.000000</td>\n",
              "    </tr>\n",
              "    <tr>\n",
              "      <th>Invoice Date</th>\n",
              "      <td>0</td>\n",
              "      <td>0.000000</td>\n",
              "    </tr>\n",
              "    <tr>\n",
              "      <th>Order Type</th>\n",
              "      <td>0</td>\n",
              "      <td>0.000000</td>\n",
              "    </tr>\n",
              "    <tr>\n",
              "      <th>Total Amt Wtd Tax.</th>\n",
              "      <td>0</td>\n",
              "      <td>0.000000</td>\n",
              "    </tr>\n",
              "    <tr>\n",
              "      <th>Recovrbl Exp</th>\n",
              "      <td>0</td>\n",
              "      <td>0.000000</td>\n",
              "    </tr>\n",
              "    <tr>\n",
              "      <th>Print Status</th>\n",
              "      <td>0</td>\n",
              "      <td>0.000000</td>\n",
              "    </tr>\n",
              "    <tr>\n",
              "      <th>Plant Name1</th>\n",
              "      <td>0</td>\n",
              "      <td>0.000000</td>\n",
              "    </tr>\n",
              "    <tr>\n",
              "      <th>Plant</th>\n",
              "      <td>0</td>\n",
              "      <td>0.000000</td>\n",
              "    </tr>\n",
              "    <tr>\n",
              "      <th>Pin code</th>\n",
              "      <td>0</td>\n",
              "      <td>0.000000</td>\n",
              "    </tr>\n",
              "    <tr>\n",
              "      <th>Parts Total</th>\n",
              "      <td>0</td>\n",
              "      <td>0.000000</td>\n",
              "    </tr>\n",
              "    <tr>\n",
              "      <th>OSL Total</th>\n",
              "      <td>0</td>\n",
              "      <td>0.000000</td>\n",
              "    </tr>\n",
              "    <tr>\n",
              "      <th>Invoice No</th>\n",
              "      <td>0</td>\n",
              "      <td>0.000000</td>\n",
              "    </tr>\n",
              "    <tr>\n",
              "      <th>Misc Total</th>\n",
              "      <td>0</td>\n",
              "      <td>0.000000</td>\n",
              "    </tr>\n",
              "    <tr>\n",
              "      <th>Make</th>\n",
              "      <td>0</td>\n",
              "      <td>0.000000</td>\n",
              "    </tr>\n",
              "    <tr>\n",
              "      <th>KMs Reading</th>\n",
              "      <td>0</td>\n",
              "      <td>0.000000</td>\n",
              "    </tr>\n",
              "    <tr>\n",
              "      <th>JobCard Time</th>\n",
              "      <td>0</td>\n",
              "      <td>0.000000</td>\n",
              "    </tr>\n",
              "    <tr>\n",
              "      <th>JobCard Date</th>\n",
              "      <td>0</td>\n",
              "      <td>0.000000</td>\n",
              "    </tr>\n",
              "    <tr>\n",
              "      <th>Job Card No</th>\n",
              "      <td>0</td>\n",
              "      <td>0.000000</td>\n",
              "    </tr>\n",
              "    <tr>\n",
              "      <th>Invoice Time</th>\n",
              "      <td>0</td>\n",
              "      <td>0.000000</td>\n",
              "    </tr>\n",
              "    <tr>\n",
              "      <th>Unnamed: 0</th>\n",
              "      <td>0</td>\n",
              "      <td>0.000000</td>\n",
              "    </tr>\n",
              "  </tbody>\n",
              "</table>\n",
              "</div>"
            ],
            "text/plain": [
              "                       Count     Percent\n",
              "Service Advisor Name  984741  100.000000\n",
              "Claim No.             979937   99.512156\n",
              "Cash /Cashless Type   957321   97.215511\n",
              "Gate Pass Date        938511   95.305365\n",
              "Policy no.            916631   93.083461\n",
              "Expiry Date           887302   90.105114\n",
              "Insurance Company     886784   90.052511\n",
              "Technician Name       729261   74.056122\n",
              "IGST(12%)             689713   70.040041\n",
              "Total Value           689713   70.040041\n",
              "CGST(14%)             689713   70.040041\n",
              "IGST(18%)             689713   70.040041\n",
              "ODN No.               689713   70.040041\n",
              "Outstanding Amt       689713   70.040041\n",
              "CGST(9%)              689713   70.040041\n",
              "CGST(6%)              689713   70.040041\n",
              "IGST(28%)             689713   70.040041\n",
              "CGST(2.5%)            689713   70.040041\n",
              "IGST(5%)              689713   70.040041\n",
              "TDS amount            689713   70.040041\n",
              "Amt Rcvd From Custom  689713   70.040041\n",
              "Total SGST/UGST       689713   70.040041\n",
              "SGST/UGST(14%)        689713   70.040041\n",
              "Total IGST            689713   70.040041\n",
              "SGST/UGST(2.5%)       689713   70.040041\n",
              "SGST/UGST(6%)         689713   70.040041\n",
              "Total GST             689713   70.040041\n",
              "SGST/UGST(9%)         689713   70.040041\n",
              "Total CGST            689713   70.040041\n",
              "Amt Rcvd From Ins Co  689713   70.040041\n",
              "Area / Locality        29178    2.963013\n",
              "Model                   1525    0.154863\n",
              "Regn No                   16    0.001625\n",
              "Cust Type                  4    0.000406\n",
              "CITY                       4    0.000406\n",
              "District                   0    0.000000\n",
              "Customer No.               0    0.000000\n",
              "Gate Pass Time             0    0.000000\n",
              "User ID                    0    0.000000\n",
              "Labour Total               0    0.000000\n",
              "Invoice Date               0    0.000000\n",
              "Order Type                 0    0.000000\n",
              "Total Amt Wtd Tax.         0    0.000000\n",
              "Recovrbl Exp               0    0.000000\n",
              "Print Status               0    0.000000\n",
              "Plant Name1                0    0.000000\n",
              "Plant                      0    0.000000\n",
              "Pin code                   0    0.000000\n",
              "Parts Total                0    0.000000\n",
              "OSL Total                  0    0.000000\n",
              "Invoice No                 0    0.000000\n",
              "Misc Total                 0    0.000000\n",
              "Make                       0    0.000000\n",
              "KMs Reading                0    0.000000\n",
              "JobCard Time               0    0.000000\n",
              "JobCard Date               0    0.000000\n",
              "Job Card No                0    0.000000\n",
              "Invoice Time               0    0.000000\n",
              "Unnamed: 0                 0    0.000000"
            ]
          },
          "metadata": {
            "tags": []
          },
          "execution_count": 8
        }
      ]
    },
    {
      "cell_type": "code",
      "metadata": {
        "id": "oazOEJG8m1wh",
        "colab_type": "code",
        "outputId": "dbcc6e2c-993a-4e93-fb86-debefe311806",
        "colab": {
          "base_uri": "https://localhost:8080/",
          "height": 462
        }
      },
      "source": [
        "get_missingvalues(plant)"
      ],
      "execution_count": 9,
      "outputs": [
        {
          "output_type": "execute_result",
          "data": {
            "text/html": [
              "<div>\n",
              "<style scoped>\n",
              "    .dataframe tbody tr th:only-of-type {\n",
              "        vertical-align: middle;\n",
              "    }\n",
              "\n",
              "    .dataframe tbody tr th {\n",
              "        vertical-align: top;\n",
              "    }\n",
              "\n",
              "    .dataframe thead th {\n",
              "        text-align: right;\n",
              "    }\n",
              "</style>\n",
              "<table border=\"1\" class=\"dataframe\">\n",
              "  <thead>\n",
              "    <tr style=\"text-align: right;\">\n",
              "      <th></th>\n",
              "      <th>Count</th>\n",
              "      <th>Percent</th>\n",
              "    </tr>\n",
              "  </thead>\n",
              "  <tbody>\n",
              "    <tr>\n",
              "      <th>Vendor number plant</th>\n",
              "      <td>436</td>\n",
              "      <td>99.543379</td>\n",
              "    </tr>\n",
              "    <tr>\n",
              "      <th>Sales organization</th>\n",
              "      <td>5</td>\n",
              "      <td>1.141553</td>\n",
              "    </tr>\n",
              "    <tr>\n",
              "      <th>House number and street</th>\n",
              "      <td>2</td>\n",
              "      <td>0.456621</td>\n",
              "    </tr>\n",
              "    <tr>\n",
              "      <th>Name 2</th>\n",
              "      <td>2</td>\n",
              "      <td>0.456621</td>\n",
              "    </tr>\n",
              "    <tr>\n",
              "      <th>PO Box</th>\n",
              "      <td>1</td>\n",
              "      <td>0.228311</td>\n",
              "    </tr>\n",
              "    <tr>\n",
              "      <th>State</th>\n",
              "      <td>0</td>\n",
              "      <td>0.000000</td>\n",
              "    </tr>\n",
              "    <tr>\n",
              "      <th>City</th>\n",
              "      <td>0</td>\n",
              "      <td>0.000000</td>\n",
              "    </tr>\n",
              "    <tr>\n",
              "      <th>Postal Code</th>\n",
              "      <td>0</td>\n",
              "      <td>0.000000</td>\n",
              "    </tr>\n",
              "    <tr>\n",
              "      <th>Factory calendar</th>\n",
              "      <td>0</td>\n",
              "      <td>0.000000</td>\n",
              "    </tr>\n",
              "    <tr>\n",
              "      <th>Customer no. - plant</th>\n",
              "      <td>0</td>\n",
              "      <td>0.000000</td>\n",
              "    </tr>\n",
              "    <tr>\n",
              "      <th>Valuation Area</th>\n",
              "      <td>0</td>\n",
              "      <td>0.000000</td>\n",
              "    </tr>\n",
              "    <tr>\n",
              "      <th>Name 1</th>\n",
              "      <td>0</td>\n",
              "      <td>0.000000</td>\n",
              "    </tr>\n",
              "    <tr>\n",
              "      <th>Plant</th>\n",
              "      <td>0</td>\n",
              "      <td>0.000000</td>\n",
              "    </tr>\n",
              "    <tr>\n",
              "      <th>Unnamed: 0</th>\n",
              "      <td>0</td>\n",
              "      <td>0.000000</td>\n",
              "    </tr>\n",
              "  </tbody>\n",
              "</table>\n",
              "</div>"
            ],
            "text/plain": [
              "                         Count    Percent\n",
              "Vendor number plant        436  99.543379\n",
              "Sales organization           5   1.141553\n",
              "House number and street      2   0.456621\n",
              "Name 2                       2   0.456621\n",
              "PO Box                       1   0.228311\n",
              "State                        0   0.000000\n",
              "City                         0   0.000000\n",
              "Postal Code                  0   0.000000\n",
              "Factory calendar             0   0.000000\n",
              "Customer no. - plant         0   0.000000\n",
              "Valuation Area               0   0.000000\n",
              "Name 1                       0   0.000000\n",
              "Plant                        0   0.000000\n",
              "Unnamed: 0                   0   0.000000"
            ]
          },
          "metadata": {
            "tags": []
          },
          "execution_count": 9
        }
      ]
    },
    {
      "cell_type": "code",
      "metadata": {
        "id": "LTRbVxE_m5cb",
        "colab_type": "code",
        "outputId": "2cdfd013-1890-4ea0-c796-6d9dcb509163",
        "colab": {
          "base_uri": "https://localhost:8080/",
          "height": 195
        }
      },
      "source": [
        "get_missingvalues(vehicles)"
      ],
      "execution_count": 10,
      "outputs": [
        {
          "output_type": "execute_result",
          "data": {
            "text/html": [
              "<div>\n",
              "<style scoped>\n",
              "    .dataframe tbody tr th:only-of-type {\n",
              "        vertical-align: middle;\n",
              "    }\n",
              "\n",
              "    .dataframe tbody tr th {\n",
              "        vertical-align: top;\n",
              "    }\n",
              "\n",
              "    .dataframe thead th {\n",
              "        text-align: right;\n",
              "    }\n",
              "</style>\n",
              "<table border=\"1\" class=\"dataframe\">\n",
              "  <thead>\n",
              "    <tr style=\"text-align: right;\">\n",
              "      <th></th>\n",
              "      <th>Count</th>\n",
              "      <th>Percent</th>\n",
              "    </tr>\n",
              "  </thead>\n",
              "  <tbody>\n",
              "    <tr>\n",
              "      <th>Fuel Type</th>\n",
              "      <td>15627</td>\n",
              "      <td>2.654218</td>\n",
              "    </tr>\n",
              "    <tr>\n",
              "      <th>License Plate Number</th>\n",
              "      <td>2058</td>\n",
              "      <td>0.349548</td>\n",
              "    </tr>\n",
              "    <tr>\n",
              "      <th>Product GUID</th>\n",
              "      <td>0</td>\n",
              "      <td>0.000000</td>\n",
              "    </tr>\n",
              "    <tr>\n",
              "      <th>Vehicle Model</th>\n",
              "      <td>0</td>\n",
              "      <td>0.000000</td>\n",
              "    </tr>\n",
              "    <tr>\n",
              "      <th>Unnamed: 0</th>\n",
              "      <td>0</td>\n",
              "      <td>0.000000</td>\n",
              "    </tr>\n",
              "  </tbody>\n",
              "</table>\n",
              "</div>"
            ],
            "text/plain": [
              "                      Count   Percent\n",
              "Fuel Type             15627  2.654218\n",
              "License Plate Number   2058  0.349548\n",
              "Product GUID              0  0.000000\n",
              "Vehicle Model             0  0.000000\n",
              "Unnamed: 0                0  0.000000"
            ]
          },
          "metadata": {
            "tags": []
          },
          "execution_count": 10
        }
      ]
    },
    {
      "cell_type": "code",
      "metadata": {
        "id": "w52LdQm4nACE",
        "colab_type": "code",
        "outputId": "e64e3857-1d5d-443b-c608-7ffa6fb4bd37",
        "colab": {
          "base_uri": "https://localhost:8080/",
          "height": 343
        }
      },
      "source": [
        "get_missingvalues(jtd)"
      ],
      "execution_count": 11,
      "outputs": [
        {
          "output_type": "execute_result",
          "data": {
            "text/html": [
              "<div>\n",
              "<style scoped>\n",
              "    .dataframe tbody tr th:only-of-type {\n",
              "        vertical-align: middle;\n",
              "    }\n",
              "\n",
              "    .dataframe tbody tr th {\n",
              "        vertical-align: top;\n",
              "    }\n",
              "\n",
              "    .dataframe thead th {\n",
              "        text-align: right;\n",
              "    }\n",
              "</style>\n",
              "<table border=\"1\" class=\"dataframe\">\n",
              "  <thead>\n",
              "    <tr style=\"text-align: right;\">\n",
              "      <th></th>\n",
              "      <th>Count</th>\n",
              "      <th>Percent</th>\n",
              "    </tr>\n",
              "  </thead>\n",
              "  <tbody>\n",
              "    <tr>\n",
              "      <th>Labor Value Number</th>\n",
              "      <td>709530</td>\n",
              "      <td>67.666118</td>\n",
              "    </tr>\n",
              "    <tr>\n",
              "      <th>Target quantity UoM</th>\n",
              "      <td>12515</td>\n",
              "      <td>1.193525</td>\n",
              "    </tr>\n",
              "    <tr>\n",
              "      <th>Description</th>\n",
              "      <td>12515</td>\n",
              "      <td>1.193525</td>\n",
              "    </tr>\n",
              "    <tr>\n",
              "      <th>Material</th>\n",
              "      <td>12515</td>\n",
              "      <td>1.193525</td>\n",
              "    </tr>\n",
              "    <tr>\n",
              "      <th>Net value</th>\n",
              "      <td>0</td>\n",
              "      <td>0.000000</td>\n",
              "    </tr>\n",
              "    <tr>\n",
              "      <th>Order Quantity</th>\n",
              "      <td>0</td>\n",
              "      <td>0.000000</td>\n",
              "    </tr>\n",
              "    <tr>\n",
              "      <th>Item Category</th>\n",
              "      <td>0</td>\n",
              "      <td>0.000000</td>\n",
              "    </tr>\n",
              "    <tr>\n",
              "      <th>Order Item</th>\n",
              "      <td>0</td>\n",
              "      <td>0.000000</td>\n",
              "    </tr>\n",
              "    <tr>\n",
              "      <th>DBM Order</th>\n",
              "      <td>0</td>\n",
              "      <td>0.000000</td>\n",
              "    </tr>\n",
              "    <tr>\n",
              "      <th>Unnamed: 0</th>\n",
              "      <td>0</td>\n",
              "      <td>0.000000</td>\n",
              "    </tr>\n",
              "  </tbody>\n",
              "</table>\n",
              "</div>"
            ],
            "text/plain": [
              "                      Count    Percent\n",
              "Labor Value Number   709530  67.666118\n",
              "Target quantity UoM   12515   1.193525\n",
              "Description           12515   1.193525\n",
              "Material              12515   1.193525\n",
              "Net value                 0   0.000000\n",
              "Order Quantity            0   0.000000\n",
              "Item Category             0   0.000000\n",
              "Order Item                0   0.000000\n",
              "DBM Order                 0   0.000000\n",
              "Unnamed: 0                0   0.000000"
            ]
          },
          "metadata": {
            "tags": []
          },
          "execution_count": 11
        }
      ]
    },
    {
      "cell_type": "code",
      "metadata": {
        "id": "JBYWmv0gqwll",
        "colab_type": "code",
        "colab": {}
      },
      "source": [
        "# 1. drop unwanted columns from all dataframes\n",
        "# 2. lowercase all the categorical columns\n",
        "\n",
        "def drop_col(dataset, col_to_drop):\n",
        "    dataset.drop(col_to_drop, axis=1, inplace=True)\n",
        "    return dataset\n",
        "\n",
        "def lowercase(dataset):\n",
        "    categorical_col = dataset.select_dtypes(exclude=['number']).columns\n",
        "    for col in categorical_col:\n",
        "        dataset[col] = dataset[col].map(lambda x: x if type(x)!=str else x.lower())\n",
        "    return dataset\n",
        "\n",
        "invoice_columns_to_drop = ['Unnamed: 0', 'Amt Rcvd From Custom', 'Amt Rcvd From Ins Co','Area / Locality',\n",
        "                           'CGST(14%)', 'CGST(2.5%)', 'CGST(6%)', 'CGST(9%)',\n",
        "                           'IGST(12%)', 'IGST(18%)', 'IGST(28%)', 'IGST(5%)', 'Insurance Company',\n",
        "                           'Outstanding Amt', 'SGST/UGST(14%)', 'SGST/UGST(2.5%)', 'SGST/UGST(6%)', 'SGST/UGST(9%)',\n",
        "                           'Service Advisor Name', 'TDS amount', 'Total CGST', 'Total GST', 'Total IGST',\n",
        "                           'Total SGST/UGST','Claim No.','Cash /Cashless Type','Policy no.','Expiry Date','Gate Pass Date'\n",
        "                          ]\n",
        "customer_columns_to_drop = ['Marital Status','Occupation','Date of Birth','Death date','Unnamed: 0','Business Partner']\n",
        "plant_columns_to_drop = ['Unnamed: 0','Name 1','Factory calendar','Valuation Area', 'Customer no. - plant','PO Box','Postal Code','Name 2','Vendor number plant','House number and street']\n",
        "jtd_columns_to_drop = ['Unnamed: 0']\n",
        "vehicles_columns_to_drop = ['Unnamed: 0','Product GUID']\n",
        "\n",
        "dataframes = [invoice, customer, plant, jtd, vehicles]\n",
        "dataframe_columns_to_drop = [invoice_columns_to_drop, customer_columns_to_drop, plant_columns_to_drop, jtd_columns_to_drop, vehicles_columns_to_drop]\n",
        "\n",
        "for i in range(len(dataframes)):\n",
        "  dataframes[i] = drop_col(dataframes[i],dataframe_columns_to_drop[i])\n",
        "  dataframes[i] = lowercase(dataframes[i])\n",
        "  "
      ],
      "execution_count": 0,
      "outputs": []
    },
    {
      "cell_type": "markdown",
      "metadata": {
        "id": "RHuX1x9G8AHz",
        "colab_type": "text"
      },
      "source": [
        "## Get top values"
      ]
    },
    {
      "cell_type": "code",
      "metadata": {
        "id": "J3u07fnN7-11",
        "colab_type": "code",
        "colab": {}
      },
      "source": [
        "def get_top_values(dataset,col,min_percentage):\n",
        "    filtered_df = dataset[col].value_counts()\n",
        "    filtered_df=filtered_df.reset_index()\n",
        "    filtered_df[col] = (filtered_df[col]/sum(filtered_df[col]))*100\n",
        "    filtered_df = filtered_df.sort_values(col)\n",
        "    filtered_df = filtered_df[filtered_df[col]>min_percentage]\n",
        "    top_values  = filtered_df['index'].tolist()\n",
        "    top_values_df = dataset[dataset[col].isin(top_values)]\n",
        "    return top_values_df, top_values"
      ],
      "execution_count": 0,
      "outputs": []
    },
    {
      "cell_type": "markdown",
      "metadata": {
        "id": "rgH1eJbS1UBP",
        "colab_type": "text"
      },
      "source": [
        "## Categorical Columns and Numerical Columns"
      ]
    },
    {
      "cell_type": "code",
      "metadata": {
        "id": "FIptcQzr1TlS",
        "colab_type": "code",
        "colab": {
          "base_uri": "https://localhost:8080/",
          "height": 423
        },
        "outputId": "331e5683-ef7d-4097-f576-60a29b8b4efb"
      },
      "source": [
        "# categorical_cols = train.select_dtypes(include=['object'])\n",
        "# print('Categorical columns:\\n\\n',categorical_cols.columns)\n",
        "# numeric_cols = train.select_dtypes(exclude=['object'])\n",
        "# print('\\n\\nNumerical columns:\\n\\n',numeric_cols.columns)\n",
        "\n",
        "dataframes = [invoice, customer, plant, jtd, vehicles]\n",
        "\n",
        "def num_date_cat_cols(df):\n",
        "  cols = df.columns\n",
        "  num_cols = df._get_numeric_data().columns\n",
        "  date_cols = df.select_dtypes(include=['datetime64']).columns\n",
        "  cat_cols = list(set(cols) - set(num_cols) - set(date_cols))\n",
        "  return num_cols, cat_cols\n",
        "\n",
        "for i in dataframes:\n",
        "  print('\\nData Frame')\n",
        "  num_cols, cat_cols = num_date_cat_cols(i)\n",
        "  print('Numerical Columns',num_cols)\n",
        "  print('Categorical Columns',cat_cols)\n",
        "#   print('Date Columns',date_cols)"
      ],
      "execution_count": 14,
      "outputs": [
        {
          "output_type": "stream",
          "text": [
            "\n",
            "Data Frame\n",
            "Numerical Columns Index(['Invoice No', 'Job Card No', 'KMs Reading', 'Labour Total',\n",
            "       'Misc Total', 'ODN No.', 'OSL Total', 'Parts Total', 'Pin code',\n",
            "       'Recovrbl Exp', 'Total Amt Wtd Tax.', 'Total Value'],\n",
            "      dtype='object')\n",
            "Categorical Columns ['Model', 'User ID', 'Plant', 'Technician Name', 'Print Status', 'Plant Name1', 'JobCard Time', 'JobCard Date', 'Make', 'CITY', 'Invoice Date', 'Invoice Time', 'Regn No', 'District', 'Order Type', 'Cust Type', 'Customer No.', 'Gate Pass Time']\n",
            "\n",
            "Data Frame\n",
            "Numerical Columns Index(['Partner Type', 'Title'], dtype='object')\n",
            "Categorical Columns ['Customer No.', 'Data Origin']\n",
            "\n",
            "Data Frame\n",
            "Numerical Columns Index([], dtype='object')\n",
            "Categorical Columns ['State', 'Sales organization', 'Plant', 'City']\n",
            "\n",
            "Data Frame\n",
            "Numerical Columns Index(['DBM Order', 'Order Item', 'Order Quantity', 'Net value'], dtype='object')\n",
            "Categorical Columns ['Target quantity UoM', 'Labor Value Number', 'Description', 'Material', 'Item Category']\n",
            "\n",
            "Data Frame\n",
            "Numerical Columns Index([], dtype='object')\n",
            "Categorical Columns ['Fuel Type', 'License Plate Number', 'Vehicle Model']\n"
          ],
          "name": "stdout"
        }
      ]
    },
    {
      "cell_type": "code",
      "metadata": {
        "id": "LD1X3Kh0igC7",
        "colab_type": "code",
        "colab": {
          "base_uri": "https://localhost:8080/",
          "height": 874
        },
        "outputId": "0d3df3fb-83c0-4e32-9bb9-b6a227a819c0"
      },
      "source": [
        "fig, axes = plt.subplots(nrows=2, ncols=2,figsize=(15,15)) # create 2x2 array of subplots\n",
        "invoice.boxplot(column='Invoice No', ax=axes[0,0]) # add boxplot to 1st subplot\n",
        "invoice.boxplot(column='KMs Reading', ax=axes[0,1]) # add boxplot to 2nd subplot\n",
        "invoice.boxplot(column='Total Amt Wtd Tax.', ax=axes[1,0]) # add boxplot to 2nd subplot\n",
        "\n",
        "# etc.\n",
        "plt.show()"
      ],
      "execution_count": 73,
      "outputs": [
        {
          "output_type": "display_data",
          "data": {
            "image/png": "[encoded data removed]",
            "text/plain": [
              "<Figure size 1080x1080 with 4 Axes>"
            ]
          },
          "metadata": {
            "tags": []
          }
        }
      ]
    },
    {
      "cell_type": "code",
      "metadata": {
        "id": "TYANryzCLK92",
        "colab_type": "code",
        "colab": {}
      },
      "source": [
        "# sns.boxplot(x=invoice['Parts Total'])\n"
      ],
      "execution_count": 0,
      "outputs": []
    },
    {
      "cell_type": "code",
      "metadata": {
        "id": "a-M2t5aOxQRj",
        "colab_type": "code",
        "colab": {}
      },
      "source": [
        "def cap_data(df):\n",
        "    for col in df.columns:\n",
        "        if (((df[col].dtype)=='float64') | ((df[col].dtype)=='int64')):\n",
        "            percentiles = df[col].quantile([0.05,0.90]).values\n",
        "            df[col][df[col] <= percentiles[0]] = percentiles[0]\n",
        "            df[col][df[col] >= percentiles[1]] = percentiles[1]\n",
        "        else:\n",
        "            df[col]=df[col]\n",
        "    return df"
      ],
      "execution_count": 0,
      "outputs": []
    },
    {
      "cell_type": "code",
      "metadata": {
        "id": "sD6RHbUnyYjf",
        "colab_type": "code",
        "colab": {}
      },
      "source": [
        "invoice_df=cap_data(invoice.drop(['Job Card No','ODN No.','Pin code'],1))\n",
        "invoice_df[['Job Card No','ODN No.','Pin code']] = invoice[['Job Card No','ODN No.','Pin code']]"
      ],
      "execution_count": 0,
      "outputs": []
    },
    {
      "cell_type": "code",
      "metadata": {
        "id": "D6pw6l8e1eS9",
        "colab_type": "code",
        "colab": {}
      },
      "source": [
        "jtd_df = cap_data(jtd.drop(['DBM Order', 'Order Item'],1))\n",
        "jtd_df[['DBM Order', 'Order Item']] = jtd[['DBM Order', 'Order Item']]"
      ],
      "execution_count": 0,
      "outputs": []
    },
    {
      "cell_type": "code",
      "metadata": {
        "id": "Bw5nWRFh45ga",
        "colab_type": "code",
        "colab": {
          "base_uri": "https://localhost:8080/"
        },
        "outputId": "62f97bf5-9b56-4f2b-80df-976ab8827979"
      },
      "source": [
        "invoice_df['Misc Total'].value_counts()\n",
        "#Order Quantity Net value"
      ],
      "execution_count": 18,
      "outputs": [
        {
          "output_type": "execute_result",
          "data": {
            "text/plain": [
              "0.00       757947\n",
              "50.00       17592\n",
              "100.00      11929\n",
              "4750.00      9849\n",
              "200.00       8440\n",
              "50.01        4777\n",
              "49.99        4531\n",
              "100.01       3376\n",
              "99.99        3324\n",
              "150.00       2671\n",
              "300.00       2476\n",
              "199.99       2027\n",
              "200.01       1845\n",
              "250.00       1510\n",
              "197.03       1302\n",
              "500.00       1282\n",
              "400.00       1052\n",
              "150.01        906\n",
              "149.99        906\n",
              "350.00        904\n",
              "219.99        823\n",
              "173.90        799\n",
              "199.14        710\n",
              "220.00        657\n",
              "299.99        620\n",
              "49.98         611\n",
              "600.00        597\n",
              "163.47        590\n",
              "50.02         568\n",
              "220.01        560\n",
              "            ...  \n",
              "1719.91         1\n",
              "1239.80         1\n",
              "250.96          1\n",
              "367.63          1\n",
              "507.96          1\n",
              "1525.13         1\n",
              "2169.76         1\n",
              "132.39          1\n",
              "982.78          1\n",
              "1783.30         1\n",
              "2320.19         1\n",
              "4071.34         1\n",
              "956.83          1\n",
              "113.96          1\n",
              "541.94          1\n",
              "644.05          1\n",
              "3910.50         1\n",
              "998.04          1\n",
              "2576.70         1\n",
              "409.89          1\n",
              "3826.32         1\n",
              "580.11          1\n",
              "1346.03         1\n",
              "1304.89         1\n",
              "998.29          1\n",
              "3911.75         1\n",
              "3826.57         1\n",
              "1399.04         1\n",
              "1349.78         1\n",
              "3175.13         1\n",
              "Name: Misc Total, Length: 37268, dtype: int64"
            ]
          },
          "metadata": {
            "tags": []
          },
          "execution_count": 18
        }
      ]
    },
    {
      "cell_type": "markdown",
      "metadata": {
        "id": "g4NUdWlV8GLz",
        "colab_type": "text"
      },
      "source": [
        "# Vehicle DF"
      ]
    },
    {
      "cell_type": "code",
      "metadata": {
        "id": "8AcBRzfw8RPU",
        "colab_type": "code",
        "colab": {
          "base_uri": "https://localhost:8080/"
        },
        "outputId": "e3c9b84e-47a9-491c-832f-d4d329717181"
      },
      "source": [
        "vehicles_df.head()"
      ],
      "execution_count": 19,
      "outputs": [
        {
          "output_type": "error",
          "ename": "NameError",
          "evalue": "ignored",
          "traceback": [
            "\u001b[0;31m---------------------------------------------------------------------------\u001b[0m",
            "\u001b[0;31mNameError\u001b[0m                                 Traceback (most recent call last)",
            "\u001b[0;32m<ipython-input-19-611180d7c36d>\u001b[0m in \u001b[0;36m<module>\u001b[0;34m()\u001b[0m\n\u001b[0;32m----> 1\u001b[0;31m \u001b[0mvehicles_df\u001b[0m\u001b[0;34m.\u001b[0m\u001b[0mhead\u001b[0m\u001b[0;34m(\u001b[0m\u001b[0;34m)\u001b[0m\u001b[0;34m\u001b[0m\u001b[0;34m\u001b[0m\u001b[0m\n\u001b[0m",
            "\u001b[0;31mNameError\u001b[0m: name 'vehicles_df' is not defined"
          ]
        }
      ]
    },
    {
      "cell_type": "markdown",
      "metadata": {
        "id": "7MYe0e_maHsF",
        "colab_type": "text"
      },
      "source": [
        "### Missing value of Fuel type"
      ]
    },
    {
      "cell_type": "code",
      "metadata": {
        "id": "w_t9Xq5W8bYB",
        "colab_type": "code",
        "colab": {}
      },
      "source": [
        "vehicles_df['Fuel Type'].value_counts()"
      ],
      "execution_count": 0,
      "outputs": []
    },
    {
      "cell_type": "code",
      "metadata": {
        "id": "SaKuCSI2Z2-B",
        "colab_type": "code",
        "colab": {}
      },
      "source": [
        "vehicles_df['Fuel Type'].fillna(vehicles_df['Fuel Type'].mode()[0], inplace=True)\n",
        "vehicles_df = vehicles_df[vehicles_df['Fuel Type'] != 'ma3e']"
      ],
      "execution_count": 0,
      "outputs": []
    },
    {
      "cell_type": "code",
      "metadata": {
        "id": "dm89W82KaE7v",
        "colab_type": "code",
        "colab": {}
      },
      "source": [
        "vehicles_df['Fuel Type'] = vehicles_df['Fuel Type'].astype(int)"
      ],
      "execution_count": 0,
      "outputs": []
    },
    {
      "cell_type": "markdown",
      "metadata": {
        "id": "pK3gNchLaONL",
        "colab_type": "text"
      },
      "source": [
        "### Selecting vehicle model name"
      ]
    },
    {
      "cell_type": "code",
      "metadata": {
        "id": "Ae9md7qYaNX-",
        "colab_type": "code",
        "colab": {}
      },
      "source": [
        "vehicles_df['Vehicle Model'] = vehicles_df['Vehicle Model'].str[2:]"
      ],
      "execution_count": 0,
      "outputs": []
    },
    {
      "cell_type": "markdown",
      "metadata": {
        "id": "pFdLWNzLaZdM",
        "colab_type": "text"
      },
      "source": [
        "### Select state Abbreviation from License Plate"
      ]
    },
    {
      "cell_type": "code",
      "metadata": {
        "id": "mQuzh496aaGw",
        "colab_type": "code",
        "colab": {}
      },
      "source": [
        "vehicles_df['Abbreviation'] = vehicles_df['License Plate Number'].astype(str).str[:2]"
      ],
      "execution_count": 0,
      "outputs": []
    },
    {
      "cell_type": "markdown",
      "metadata": {
        "id": "MGdZ92l8Dby8",
        "colab_type": "text"
      },
      "source": [
        "### Drop rows where license plate number is less than 1 \n"
      ]
    },
    {
      "cell_type": "code",
      "metadata": {
        "id": "MOimdoLbPDzm",
        "colab_type": "code",
        "colab": {}
      },
      "source": [
        "mask = (vehicles_df['License Plate Number'].str.len() > 1)\n",
        "#35 rows dropped\n",
        "df = vehicles_df.loc[mask]"
      ],
      "execution_count": 0,
      "outputs": []
    },
    {
      "cell_type": "markdown",
      "metadata": {
        "id": "6QDoqiesbFbO",
        "colab_type": "text"
      },
      "source": [
        "### Filter out rows where abbreviation is numbers (wrong license plate)"
      ]
    },
    {
      "cell_type": "code",
      "metadata": {
        "id": "8nptRSg1FCp-",
        "colab_type": "code",
        "colab": {}
      },
      "source": [
        "df = df[df['Abbreviation'].str.isalpha()]"
      ],
      "execution_count": 0,
      "outputs": []
    },
    {
      "cell_type": "markdown",
      "metadata": {
        "id": "uY_WJqlOtmuu",
        "colab_type": "text"
      },
      "source": [
        "# State table to map licence plate states to State Names"
      ]
    },
    {
      "cell_type": "code",
      "metadata": {
        "id": "mkBx6C7X1DD7",
        "colab_type": "code",
        "colab": {}
      },
      "source": [
        "url = 'https://kb.bullseyelocations.com/support/solutions/articles/5000695302-india-state-codes'\n",
        "file = pd.read_html(url, header=0)\n",
        "states = file[0]\n",
        "states.columns"
      ],
      "execution_count": 0,
      "outputs": []
    },
    {
      "cell_type": "code",
      "metadata": {
        "id": "f-WepiXOFZYU",
        "colab_type": "code",
        "colab": {}
      },
      "source": [
        "states.drop(['Alternate Abbreviation'], axis=1, inplace=True)"
      ],
      "execution_count": 0,
      "outputs": []
    },
    {
      "cell_type": "code",
      "metadata": {
        "id": "MnKk6jOWFa2A",
        "colab_type": "code",
        "colab": {}
      },
      "source": [
        "states['Abbreviation'] = states['Abbreviation'].str.lower()"
      ],
      "execution_count": 0,
      "outputs": []
    },
    {
      "cell_type": "markdown",
      "metadata": {
        "id": "v3vBYR4WtwOc",
        "colab_type": "text"
      },
      "source": [
        "## Merge State and Vehicle"
      ]
    },
    {
      "cell_type": "code",
      "metadata": {
        "id": "P8EFwscZvTwk",
        "colab_type": "code",
        "colab": {}
      },
      "source": [
        "dfmerged = pd.merge(df, states, on='Abbreviation')"
      ],
      "execution_count": 0,
      "outputs": []
    },
    {
      "cell_type": "code",
      "metadata": {
        "id": "_qL_VpwkEEmT",
        "colab_type": "code",
        "colab": {}
      },
      "source": [
        "dfmerged['State Name'].value_counts()"
      ],
      "execution_count": 0,
      "outputs": []
    },
    {
      "cell_type": "code",
      "metadata": {
        "id": "TitHkNHXsVGg",
        "colab_type": "code",
        "colab": {}
      },
      "source": [
        "p = sns.factorplot('Fuel Type',data=dfmerged,kind='count')\n",
        "p.set_xticklabels(rotation=30)"
      ],
      "execution_count": 0,
      "outputs": []
    },
    {
      "cell_type": "code",
      "metadata": {
        "id": "smM6grV1QJNS",
        "colab_type": "code",
        "colab": {}
      },
      "source": [
        "sns.set(style=\"darkgrid\")\n",
        "fig, ax = plt.subplots(figsize=(20, 12))\n",
        "sns.countplot(x=\"State Name\", data=dfmerged,hue='Fuel Type')\n",
        "plt.legend(loc='upper right')\n",
        "plt.xticks(rotation='vertical')\n",
        "plt.show()"
      ],
      "execution_count": 0,
      "outputs": []
    },
    {
      "cell_type": "code",
      "metadata": {
        "id": "ZW3ew5TmYhd_",
        "colab_type": "code",
        "colab": {}
      },
      "source": [
        "sns.set(style=\"darkgrid\")\n",
        "fig, ax = plt.subplots(figsize=(20, 8.27))\n",
        "sns.countplot(x=\"Vehicle Model\", data=dfmerged, hue='Fuel Type')\n",
        "plt.xlim(-1, 15)\n",
        "plt.legend(loc='upper right')\n",
        "plt.xticks(rotation='vertical')\n",
        "plt.show()"
      ],
      "execution_count": 0,
      "outputs": []
    },
    {
      "cell_type": "code",
      "metadata": {
        "id": "jcFob74AQZ8y",
        "colab_type": "code",
        "colab": {}
      },
      "source": [
        "sns.set(style=\"darkgrid\")\n",
        "fig, ax = plt.subplots(figsize=(20, 8.27))\n",
        "sns.countplot(x=\"Vehicle Model\", data=dfmerged)\n",
        "plt.xlim(-1, 18)\n",
        "plt.xticks(rotation='vertical')\n",
        "plt.show()"
      ],
      "execution_count": 0,
      "outputs": []
    },
    {
      "cell_type": "markdown",
      "metadata": {
        "id": "4TvDoEQbbuMJ",
        "colab_type": "text"
      },
      "source": [
        "Which states prefers which fuel type"
      ]
    },
    {
      "cell_type": "markdown",
      "metadata": {
        "id": "I7oSQtPEcfYn",
        "colab_type": "text"
      },
      "source": [
        "# Lifetime customer Value"
      ]
    },
    {
      "cell_type": "markdown",
      "metadata": {
        "id": "eudXcpkwcyPX",
        "colab_type": "text"
      },
      "source": [
        "## customer expenditures per visit"
      ]
    },
    {
      "cell_type": "code",
      "metadata": {
        "id": "LYDKFPWP015M",
        "colab_type": "code",
        "colab": {
          "base_uri": "https://localhost:8080/",
          "height": 34
        },
        "outputId": "4b7c241c-7569-4d78-bb47-12b6e58021ac"
      },
      "source": [
        "s = (sum(invoice_df.groupby(['Customer No.'])[\"Total Amt Wtd Tax.\"].sum()))/invoice_df.shape[0]\n",
        "s"
      ],
      "execution_count": 32,
      "outputs": [
        {
          "output_type": "execute_result",
          "data": {
            "text/plain": [
              "3233.1495967473793"
            ]
          },
          "metadata": {
            "tags": []
          },
          "execution_count": 32
        }
      ]
    },
    {
      "cell_type": "code",
      "metadata": {
        "id": "8y-rKoDdBSBG",
        "colab_type": "code",
        "colab": {}
      },
      "source": [
        "s = (sum(invoice_df.groupby(['Customer No.'])[\"Total Amt Wtd Tax.\"].sum()))/502774\n",
        "s"
      ],
      "execution_count": 0,
      "outputs": []
    },
    {
      "cell_type": "markdown",
      "metadata": {
        "id": "DpS8svRzda6u",
        "colab_type": "text"
      },
      "source": [
        "### number of visits per month (the “purchase cycle”)"
      ]
    },
    {
      "cell_type": "code",
      "metadata": {
        "id": "x8LSKSQEfHgC",
        "colab_type": "code",
        "colab": {}
      },
      "source": [
        "from dateutil.relativedelta import relativedelta\n",
        "from datetime import *"
      ],
      "execution_count": 0,
      "outputs": []
    },
    {
      "cell_type": "code",
      "metadata": {
        "id": "NX1AKSJWdXj6",
        "colab_type": "code",
        "colab": {}
      },
      "source": [
        "\n",
        "invoice_df['Invoice Date']=pd.to_datetime(invoice_df['Invoice Date'])\n",
        "invoice_df['year']=invoice_df['Invoice Date'].dt.year\n",
        "invoice_df['month']=invoice_df['Invoice Date'].dt.month"
      ],
      "execution_count": 0,
      "outputs": []
    },
    {
      "cell_type": "code",
      "metadata": {
        "id": "jubEjYthhk7t",
        "colab_type": "code",
        "outputId": "1e65ff8b-9975-43f4-f788-89bc1434716c",
        "colab": {
          "base_uri": "https://localhost:8080/",
          "height": 34
        }
      },
      "source": [
        "c = (invoice_df.groupby(['Customer No.'])[\"month\"].count()).mean()\n",
        "c"
      ],
      "execution_count": 33,
      "outputs": [
        {
          "output_type": "execute_result",
          "data": {
            "text/plain": [
              "1.958615600647607"
            ]
          },
          "metadata": {
            "tags": []
          },
          "execution_count": 33
        }
      ]
    },
    {
      "cell_type": "code",
      "metadata": {
        "id": "L9TTvZSReDMU",
        "colab_type": "code",
        "colab": {
          "base_uri": "https://localhost:8080/",
          "height": 34
        },
        "outputId": "b2214f27-0816-4472-b83e-b139301a7e73"
      },
      "source": [
        "t = ((invoice_df.groupby(['Customer No.'])[\"Invoice Date\"].max() - invoice_df.groupby(['Customer No.'])[\"Invoice Date\"].min())/np.timedelta64(1,'M')).mean()\n",
        "t"
      ],
      "execution_count": 28,
      "outputs": [
        {
          "output_type": "execute_result",
          "data": {
            "text/plain": [
              "3.068531057767046"
            ]
          },
          "metadata": {
            "tags": []
          },
          "execution_count": 28
        }
      ]
    },
    {
      "cell_type": "code",
      "metadata": {
        "id": "fF7cbMl0pnv8",
        "colab_type": "code",
        "colab": {}
      },
      "source": [
        "t"
      ],
      "execution_count": 0,
      "outputs": []
    },
    {
      "cell_type": "code",
      "metadata": {
        "id": "BmdneBjQz-5K",
        "colab_type": "code",
        "colab": {
          "base_uri": "https://localhost:8080/",
          "height": 34
        },
        "outputId": "6dfa7c2e-881b-4198-c6f2-fd2f9acd200d"
      },
      "source": [
        "a = s * c\n",
        "a"
      ],
      "execution_count": 34,
      "outputs": [
        {
          "output_type": "execute_result",
          "data": {
            "text/plain": [
              "6332.497239416936"
            ]
          },
          "metadata": {
            "tags": []
          },
          "execution_count": 34
        }
      ]
    },
    {
      "cell_type": "code",
      "metadata": {
        "id": "T_0hyOD2gFjv",
        "colab_type": "code",
        "colab": {}
      },
      "source": [
        "a = s * c\n",
        "a"
      ],
      "execution_count": 0,
      "outputs": []
    },
    {
      "cell_type": "code",
      "metadata": {
        "id": "7ETbgtpf0BrL",
        "colab_type": "code",
        "colab": {
          "base_uri": "https://localhost:8080/",
          "height": 34
        },
        "outputId": "259e7081-82ec-4396-da92-e906e68ca87a"
      },
      "source": [
        "SLTV = (12 * a) * t\n",
        "SLTV"
      ],
      "execution_count": 35,
      "outputs": [
        {
          "output_type": "execute_result",
          "data": {
            "text/plain": [
              "233177.57342849937"
            ]
          },
          "metadata": {
            "tags": []
          },
          "execution_count": 35
        }
      ]
    },
    {
      "cell_type": "code",
      "metadata": {
        "id": "_6Cp0OSseNXx",
        "colab_type": "code",
        "colab": {}
      },
      "source": [
        "SLTV = (12 * a) * t\n",
        "SLTV"
      ],
      "execution_count": 0,
      "outputs": []
    },
    {
      "cell_type": "markdown",
      "metadata": {
        "id": "s34eKNEr6n9c",
        "colab_type": "text"
      },
      "source": [
        "# Invoice"
      ]
    },
    {
      "cell_type": "markdown",
      "metadata": {
        "id": "Px3921NrFGfz",
        "colab_type": "text"
      },
      "source": [
        "### Select top n"
      ]
    },
    {
      "cell_type": "code",
      "metadata": {
        "id": "v5WmTMBLFFzE",
        "colab_type": "code",
        "colab": {}
      },
      "source": [
        "def get_top_values(dataset,col,min_percentage):\n",
        "    filtered_df = dataset[col].value_counts()\n",
        "    filtered_df=filtered_df.reset_index()\n",
        "    filtered_df[col] = (filtered_df[col]/sum(filtered_df[col]))*100\n",
        "    filtered_df = filtered_df.sort_values(col)\n",
        "    filtered_df = filtered_df[filtered_df[col]>min_percentage]\n",
        "    top_values  = filtered_df['index'].tolist()\n",
        "    top_values_df = dataset[dataset[col].isin(top_values)]\n",
        "    return top_values_df, top_values"
      ],
      "execution_count": 0,
      "outputs": []
    },
    {
      "cell_type": "markdown",
      "metadata": {
        "id": "eet_ODbbDAhG",
        "colab_type": "text"
      },
      "source": [
        "# No payment"
      ]
    },
    {
      "cell_type": "code",
      "metadata": {
        "id": "Q-6i7c8nBc2W",
        "colab_type": "code",
        "colab": {}
      },
      "source": [
        "nopayment =  invoice_df[(invoice_df['Total Amt Wtd Tax.'] == 0)]"
      ],
      "execution_count": 0,
      "outputs": []
    },
    {
      "cell_type": "code",
      "metadata": {
        "id": "YWK2Zy2zFLtI",
        "colab_type": "code",
        "colab": {}
      },
      "source": [
        "nopayment, topvalues = get_top_values(nopayment,'District',1.0)"
      ],
      "execution_count": 0,
      "outputs": []
    },
    {
      "cell_type": "code",
      "metadata": {
        "id": "vQo1GPNK9nnu",
        "colab_type": "code",
        "colab": {}
      },
      "source": [
        "fig, ax = plt.subplots(figsize=(15,7))\n",
        "nopayment.groupby('District').count()['Order Type'].plot(ax=ax, kind='bar')\n",
        "# dfmerged.groupby(cols).count()[\"Fuel Type\"]."
      ],
      "execution_count": 0,
      "outputs": []
    },
    {
      "cell_type": "code",
      "metadata": {
        "id": "37Xb0fj8Bczb",
        "colab_type": "code",
        "colab": {}
      },
      "source": [
        "fig, ax = plt.subplots(figsize=(15,7))\n",
        "nopayment.groupby('District').count()['Order Type'].plot(ax=ax, kind='bar')\n",
        "# dfmerged.groupby(cols).count()[\"Fuel Type\"]."
      ],
      "execution_count": 0,
      "outputs": []
    },
    {
      "cell_type": "code",
      "metadata": {
        "id": "UjI97VuKBcwb",
        "colab_type": "code",
        "colab": {}
      },
      "source": [
        "sns.set(style=\"darkgrid\")\n",
        "fig, ax = plt.subplots(figsize=(20, 8.27))\n",
        "sns.countplot(x=\"District\", data=nopayment, hue='Order Type')\n",
        "plt.legend(loc='upper right')\n",
        "plt.xticks(rotation='vertical')\n",
        "plt.show()"
      ],
      "execution_count": 0,
      "outputs": []
    },
    {
      "cell_type": "code",
      "metadata": {
        "id": "yhXkaJxsBcuF",
        "colab_type": "code",
        "colab": {}
      },
      "source": [
        "nopayment['Make'].value_counts()"
      ],
      "execution_count": 0,
      "outputs": []
    },
    {
      "cell_type": "code",
      "metadata": {
        "id": "W31j4ISbBcqY",
        "colab_type": "code",
        "colab": {}
      },
      "source": [
        "invoiceee.groupby('Customer No.').sum()"
      ],
      "execution_count": 0,
      "outputs": []
    },
    {
      "cell_type": "code",
      "metadata": {
        "id": "vxWG7LetBcoR",
        "colab_type": "code",
        "colab": {
          "base_uri": "https://localhost:8080/",
          "height": 300
        },
        "outputId": "9106812a-b8aa-457b-fe30-7b09433be660"
      },
      "source": [
        "sns.boxplot(x=invoice['Total Amt Wtd Tax.'])"
      ],
      "execution_count": 37,
      "outputs": [
        {
          "output_type": "execute_result",
          "data": {
            "text/plain": [
              "<matplotlib.axes._subplots.AxesSubplot at 0x7f52578264e0>"
            ]
          },
          "metadata": {
            "tags": []
          },
          "execution_count": 37
        },
        {
          "output_type": "display_data",
          "data": {
            "image/png": "[encoded data removed]",
            "text/plain": [
              "<Figure size 432x288 with 1 Axes>"
            ]
          },
          "metadata": {
            "tags": []
          }
        }
      ]
    },
    {
      "cell_type": "markdown",
      "metadata": {
        "id": "ZcESu6OUydZ9",
        "colab_type": "text"
      },
      "source": [
        "# Maps"
      ]
    },
    {
      "cell_type": "code",
      "metadata": {
        "id": "4ffh1tlKydIP",
        "colab_type": "code",
        "colab": {}
      },
      "source": [
        ""
      ],
      "execution_count": 0,
      "outputs": []
    },
    {
      "cell_type": "code",
      "metadata": {
        "id": "VtrANE_rFsM2",
        "colab_type": "code",
        "colab": {}
      },
      "source": [
        "!apt-get install libgeos-3.5.0\n",
        "!apt-get install libgeos-dev\n",
        "!pip install https://github.com/matplotlib/basemap/archive/master.zip"
      ],
      "execution_count": 0,
      "outputs": []
    },
    {
      "cell_type": "code",
      "metadata": {
        "id": "3_xg-zSlF8WS",
        "colab_type": "code",
        "colab": {}
      },
      "source": [
        "!pip install pyproj==1.9.6"
      ],
      "execution_count": 0,
      "outputs": []
    },
    {
      "cell_type": "code",
      "metadata": {
        "id": "-EtQlb5E7zKQ",
        "colab_type": "code",
        "colab": {}
      },
      "source": [
        "from mpl_toolkits.basemap import Basemap"
      ],
      "execution_count": 0,
      "outputs": []
    },
    {
      "cell_type": "code",
      "metadata": {
        "id": "TGYA9gw0EoOd",
        "colab_type": "code",
        "colab": {}
      },
      "source": [
        "fig = plt.figure(num=None, figsize=(12, 8) )\n",
        "m = Basemap(projection='merc',llcrnrlat=-80,urcrnrlat=80,llcrnrlon=-180,urcrnrlon=180,resolution='c')\n",
        "m.drawcoastlines()\n",
        "m.fillcontinents(color='tan',lake_color='lightblue')\n",
        "# draw parallels and meridians.\n",
        "m.drawparallels(np.arange(-90.,91.,30.),labels=[True,True,False,False],dashes=[2,2])\n",
        "m.drawmeridians(np.arange(-180.,181.,60.),labels=[False,False,False,True],dashes=[2,2])\n",
        "m.drawmapboundary(fill_color='lightblue')\n",
        "plt.title(\"Mercator Projection\")"
      ],
      "execution_count": 0,
      "outputs": []
    },
    {
      "cell_type": "code",
      "metadata": {
        "id": "I9BvnwUOGaay",
        "colab_type": "code",
        "colab": {}
      },
      "source": [
        "fig = plt.figure(num=None, figsize=(12, 8) ) \n",
        "m = Basemap(width=6000000,height=4500000,resolution='c',projection='aea',\n",
        "            llcrnrlon=67,llcrnrlat=5,urcrnrlon=99,urcrnrlat=35,lat_0=28,lon_0=77)\n",
        "m.drawcoastlines(linewidth=0.5)\n",
        "m.fillcontinents(color='tan',lake_color='lightblue')\n",
        "# draw parallels and meridians.\n",
        "m.drawparallels(np.arange(-90.,91.,15.),labels=[True,True,False,False],dashes=[2,2])\n",
        "m.drawmeridians(np.arange(-180.,181.,15.),labels=[False,False,False,True],dashes=[2,2])\n",
        "m.drawmapboundary(fill_color='lightblue')\n",
        "m.drawcountries(linewidth=2, linestyle='solid', color='k' ) \n",
        "m.drawstates(linewidth=0.5, linestyle='solid', color='k', antialiased=1, ax=None, zorder=None)\n",
        "m.drawrivers(linewidth=0.5, linestyle='solid', color='blue')"
      ],
      "execution_count": 0,
      "outputs": []
    },
    {
      "cell_type": "code",
      "metadata": {
        "id": "9XrTrLBtG16i",
        "colab_type": "code",
        "colab": {}
      },
      "source": [
        "sample_cust = invoice_df[0:1000]"
      ],
      "execution_count": 0,
      "outputs": []
    },
    {
      "cell_type": "code",
      "metadata": {
        "id": "Gdnc0WJjM1Mo",
        "colab_type": "code",
        "colab": {}
      },
      "source": [
        "for index, row in sample_cust.iterrows():\n",
        "    print (index, row['Model'])"
      ],
      "execution_count": 0,
      "outputs": []
    },
    {
      "cell_type": "code",
      "metadata": {
        "id": "alLa0fD3M3AU",
        "colab_type": "code",
        "colab": {}
      },
      "source": [
        "# data = pd.DataFrame({\"Apple\": [False, False, False], \"Banana\": [False, True, False], \"Carrot\": [True, True, True], \"Mango\": [True, False, True]}, columns=[\"Apple\", \"Banana\", \"Carrot\", \"Mango\"])\n",
        "\n",
        "true_columns = []\n",
        "\n",
        "for index, row in sample_cust.iterrows():\n",
        "  true_col_list = [col for col in sample_cust.columns if row[col]]\n",
        "  true_columns.append(\",\".join(true_col_list))\n",
        "\n",
        "sample_cust[\"true_columns\"] = true_columns\n"
      ],
      "execution_count": 0,
      "outputs": []
    },
    {
      "cell_type": "code",
      "metadata": {
        "id": "FanJgIuPTZ_q",
        "colab_type": "code",
        "colab": {}
      },
      "source": [
        "sample_cust.head().T"
      ],
      "execution_count": 0,
      "outputs": []
    },
    {
      "cell_type": "code",
      "metadata": {
        "id": "6EckgcHaTelR",
        "colab_type": "code",
        "colab": {}
      },
      "source": [
        ""
      ],
      "execution_count": 0,
      "outputs": []
    }
  ]
}